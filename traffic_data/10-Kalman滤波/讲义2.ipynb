{
 "cells": [
  {
   "cell_type": "code",
   "execution_count": 1,
   "metadata": {},
   "outputs": [],
   "source": [
    "import matplotlib.pyplot as plt\n",
    "import numpy as np"
   ]
  },
  {
   "cell_type": "code",
   "execution_count": 34,
   "metadata": {},
   "outputs": [],
   "source": [
    "def trajectory(time):\n",
    "    a = 3\n",
    "    return a*time**2"
   ]
  },
  {
   "cell_type": "code",
   "execution_count": 35,
   "metadata": {},
   "outputs": [],
   "source": [
    "def radar(traj, time, sigma):\n",
    "    x = traj(time)\n",
    "    e = np.random.randn()*sigma\n",
    "    return x+e"
   ]
  },
  {
   "cell_type": "code",
   "execution_count": 36,
   "metadata": {},
   "outputs": [],
   "source": [
    "def gyroscope(traj, time, sigma):\n",
    "    dt = 0.01\n",
    "    dx = traj(time+dt) - traj(time)\n",
    "    v = dx / dt\n",
    "    e = np.random.randn()*sigma\n",
    "    return v+e"
   ]
  },
  {
   "cell_type": "code",
   "execution_count": 37,
   "metadata": {},
   "outputs": [],
   "source": [
    "X = [radar(trajectory, time, 1000) for time in range(50)]\n",
    "X = np.array(X)"
   ]
  },
  {
   "cell_type": "code",
   "execution_count": 38,
   "metadata": {},
   "outputs": [],
   "source": [
    "V = [gyroscope(trajectory, time, 10) for time in range(50)]\n",
    "V = np.array(V)"
   ]
  },
  {
   "cell_type": "code",
   "execution_count": 39,
   "metadata": {},
   "outputs": [
    {
     "data": {
      "text/plain": [
       "[<matplotlib.lines.Line2D at 0x7f10f73f0ee0>]"
      ]
     },
     "execution_count": 39,
     "metadata": {},
     "output_type": "execute_result"
    },
    {
     "data": {
      "image/png": "[encoded data removed]",
      "text/plain": [
       "<Figure size 432x288 with 1 Axes>"
      ]
     },
     "metadata": {
      "needs_background": "light"
     },
     "output_type": "display_data"
    }
   ],
   "source": [
    "t = np.array(range(50))\n",
    "plt.plot(t, trajectory(t))\n",
    "plt.plot(t, X, \".\")"
   ]
  },
  {
   "cell_type": "code",
   "execution_count": 40,
   "metadata": {},
   "outputs": [],
   "source": [
    "def predict(x_prev, sqd_prev, v, sqd_v, dt):\n",
    "    x = x_prev + v*dt\n",
    "    sqd = sqd_prev + sqd_v*dt*dt\n",
    "    return x, sqd\n",
    "\n",
    "def update(x_pred, sqd_pred, x_obv, sqd_obv):\n",
    "    w1 = sqd_pred / (sqd_pred + sqd_obv)\n",
    "    w2 = sqd_obv / (sqd_pred + sqd_obv)\n",
    "    x = w2*x_pred + w1*x_obv\n",
    "    sqd = sqd_pred*sqd_obv/(sqd_pred + sqd_obv)\n",
    "    return x, sqd\n",
    "\n",
    "def kalman_filter(X, V, sigma_radar=1000, sigma_gyro=10, dt=1):\n",
    "    x_list = []\n",
    "    sqd_list = []\n",
    "    \n",
    "    x = X[0]\n",
    "    sqd = sigma_radar**2\n",
    "    x_list.append(x)\n",
    "    sqd_list.append(sqd)\n",
    "\n",
    "    for i in range(1, len(X)):\n",
    "        v = V[i]\n",
    "        x_pred, sqd_pred = predict(x, sqd, v, sigma_gyro**2, dt)\n",
    "        x, sqd = update(x_pred, sqd_pred, X[i], sigma_radar**2)\n",
    "        x_list.append(x)\n",
    "        sqd_list.append(sqd)\n",
    "\n",
    "    return x_list, sqd_list"
   ]
  },
  {
   "cell_type": "code",
   "execution_count": 41,
   "metadata": {},
   "outputs": [],
   "source": [
    "x_list, sqd_list = kalman_filter(X, V)"
   ]
  },
  {
   "cell_type": "code",
   "execution_count": 42,
   "metadata": {},
   "outputs": [
    {
     "data": {
      "text/plain": [
       "[<matplotlib.lines.Line2D at 0x7f10f723bd30>]"
      ]
     },
     "execution_count": 42,
     "metadata": {},
     "output_type": "execute_result"
    },
    {
     "data": {
      "image/png": "[encoded data removed]",
      "text/plain": [
       "<Figure size 432x288 with 1 Axes>"
      ]
     },
     "metadata": {
      "needs_background": "light"
     },
     "output_type": "display_data"
    }
   ],
   "source": [
    "t = np.array(range(50))\n",
    "plt.plot(t, trajectory(t))\n",
    "plt.plot(t, X, \".\")\n",
    "plt.plot(t, x_list, \"--\")"
   ]
  },
  {
   "cell_type": "code",
   "execution_count": null,
   "metadata": {},
   "outputs": [],
   "source": []
  }
 ],
 "metadata": {
  "interpreter": {
   "hash": "e7370f93d1d0cde622a1f8e1c04877d8463912d04d973331ad4851f04de6915a"
  },
  "kernelspec": {
   "display_name": "Python 3.10.4 64-bit",
   "language": "python",
   "name": "python3"
  },
  "language_info": {
   "codemirror_mode": {
    "name": "ipython",
    "version": 3
   },
   "file_extension": ".py",
   "mimetype": "text/x-python",
   "name": "python",
   "nbconvert_exporter": "python",
   "pygments_lexer": "ipython3",
   "version": "3.10.4"
  },
  "orig_nbformat": 4
 },
 "nbformat": 4,
 "nbformat_minor": 2
}
