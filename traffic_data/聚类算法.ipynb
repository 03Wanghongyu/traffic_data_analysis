{
 "cells": [
  {
   "cell_type": "code",
   "execution_count": 2,
   "metadata": {},
   "outputs": [],
   "source": [
    "import matplotlib.pyplot as plt\n",
    "import numpy as np"
   ]
  },
  {
   "cell_type": "code",
   "execution_count": 3,
   "metadata": {},
   "outputs": [],
   "source": [
    "def cluster(x1, x2, sigma, N=10):\n",
    "    x1 = np.random.randn(N)*sigma + x1\n",
    "    x2 = np.random.randn(N)*sigma + x2\n",
    "    return np.vstack([x1, x2]).T\n"
   ]
  },
  {
   "cell_type": "code",
   "execution_count": 56,
   "metadata": {},
   "outputs": [
    {
     "data": {
      "text/plain": [
       "<matplotlib.collections.PathCollection at 0x7f1f6aa2b6a0>"
      ]
     },
     "execution_count": 56,
     "metadata": {},
     "output_type": "execute_result"
    },
    {
     "data": {
      "image/png": "[encoded data removed]",
      "text/plain": [
       "<Figure size 432x288 with 1 Axes>"
      ]
     },
     "metadata": {
      "needs_background": "light"
     },
     "output_type": "display_data"
    }
   ],
   "source": [
    "D = np.vstack([cluster(3, 5, 1), cluster(8,9,1), cluster(0,15,1)])\n",
    "plt.scatter(D[:,0], D[:,1])"
   ]
  },
  {
   "cell_type": "code",
   "execution_count": 51,
   "metadata": {},
   "outputs": [
    {
     "data": {
      "text/plain": [
       "array([ 9.05630006, 20.62729836])"
      ]
     },
     "execution_count": 51,
     "metadata": {},
     "output_type": "execute_result"
    }
   ],
   "source": [
    "D.max(axis=0)"
   ]
  },
  {
   "cell_type": "code",
   "execution_count": 77,
   "metadata": {},
   "outputs": [],
   "source": [
    "def kmeans_cluster(Data, N=2):\n",
    "    for i in range(100):\n",
    "        MU = random_centers(Data, N)\n",
    "        Mask = split(Data, MU)\n",
    "        MU = get_centers(Data, Mask, N)\n",
    "\n",
    "    return Mask"
   ]
  },
  {
   "cell_type": "code",
   "execution_count": 31,
   "metadata": {},
   "outputs": [],
   "source": [
    "def random_centers(Data, N):\n",
    "    maxs = Data.max(axis=0)\n",
    "    mins = Data.min(axis=0)\n",
    "\n",
    "    MU = []\n",
    "    for i in range(N):\n",
    "        mu = []\n",
    "        for min, max in zip(mins, maxs):\n",
    "            x = min + np.random.rand()*(max-min)\n",
    "            mu.append(x)\n",
    "        mu = np.array(mu)\n",
    "        MU.append(mu)\n",
    "\n",
    "    return np.array(MU) "
   ]
  },
  {
   "cell_type": "code",
   "execution_count": 21,
   "metadata": {},
   "outputs": [],
   "source": [
    "MU = random_centers(D, 3)"
   ]
  },
  {
   "cell_type": "code",
   "execution_count": 19,
   "metadata": {},
   "outputs": [],
   "source": [
    "def split(Data, MU):\n",
    "    num_Data = Data.shape[0]\n",
    "    num_MU = MU.shape[0]\n",
    "\n",
    "    Dist = np.zeros([num_Data, num_MU])\n",
    "    for i in range(num_Data):\n",
    "        for j in range(num_MU):\n",
    "            xi = Data[i]\n",
    "            muj = MU[j]\n",
    "            d = xi-muj\n",
    "            d2 = (d**2).sum()\n",
    "            Dist[i, j] = d2\n",
    "\n",
    "    return Dist.argmin(axis=1)"
   ]
  },
  {
   "cell_type": "code",
   "execution_count": 22,
   "metadata": {},
   "outputs": [
    {
     "data": {
      "text/plain": [
       "array([0, 0, 0, 0, 0, 0, 0, 0, 0, 0, 2, 1, 1, 2, 2, 0, 2, 1, 1, 1])"
      ]
     },
     "execution_count": 22,
     "metadata": {},
     "output_type": "execute_result"
    }
   ],
   "source": [
    "Mask = split(D, MU)\n",
    "Mask"
   ]
  },
  {
   "cell_type": "code",
   "execution_count": 76,
   "metadata": {},
   "outputs": [],
   "source": [
    "def get_centers(Data, Mask, N):\n",
    "    MU = []\n",
    "    for n in range(N):\n",
    "        mu = D[Mask==n].mean(axis=0)\n",
    "        MU.append(mu)\n",
    "\n",
    "    return np.array(MU)"
   ]
  },
  {
   "cell_type": "code",
   "execution_count": 30,
   "metadata": {},
   "outputs": [
    {
     "data": {
      "text/plain": [
       "array([[3.43389663, 5.65147603],\n",
       "       [8.9189593 , 8.929741  ],\n",
       "       [7.02132426, 9.47191353]])"
      ]
     },
     "execution_count": 30,
     "metadata": {},
     "output_type": "execute_result"
    }
   ],
   "source": [
    "get_centers(D, Mask, 3)"
   ]
  },
  {
   "cell_type": "code",
   "execution_count": 79,
   "metadata": {},
   "outputs": [
    {
     "name": "stderr",
     "output_type": "stream",
     "text": [
      "/tmp/ipykernel_12316/2454386518.py:4: RuntimeWarning: Mean of empty slice.\n",
      "  mu = D[Mask==n].mean(axis=0)\n"
     ]
    },
    {
     "data": {
      "text/plain": [
       "<matplotlib.collections.PathCollection at 0x7f1f6a60c580>"
      ]
     },
     "execution_count": 79,
     "metadata": {},
     "output_type": "execute_result"
    },
    {
     "data": {
      "image/png": "[encoded data removed]",
      "text/plain": [
       "<Figure size 432x288 with 1 Axes>"
      ]
     },
     "metadata": {
      "needs_background": "light"
     },
     "output_type": "display_data"
    }
   ],
   "source": [
    "Mask = kmeans_cluster(D, 3)\n",
    "plt.scatter(D[:,0], D[:,1], c=Mask)"
   ]
  },
  {
   "cell_type": "code",
   "execution_count": null,
   "metadata": {},
   "outputs": [],
   "source": []
  }
 ],
 "metadata": {
  "interpreter": {
   "hash": "4e1d9a8909477db77738c33245c29c7265277ef753467dede8cf3f814cde494e"
  },
  "kernelspec": {
   "display_name": "Python 3.10.4 64-bit",
   "language": "python",
   "name": "python3"
  },
  "language_info": {
   "codemirror_mode": {
    "name": "ipython",
    "version": 3
   },
   "file_extension": ".py",
   "mimetype": "text/x-python",
   "name": "python",
   "nbconvert_exporter": "python",
   "pygments_lexer": "ipython3",
   "version": "3.10.4"
  },
  "orig_nbformat": 4
 },
 "nbformat": 4,
 "nbformat_minor": 2
}
