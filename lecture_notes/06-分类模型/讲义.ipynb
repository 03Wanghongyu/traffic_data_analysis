{
 "cells": [
  {
   "cell_type": "code",
   "execution_count": 2,
   "metadata": {},
   "outputs": [],
   "source": [
    "import numpy as np\n",
    "import matplotlib.pyplot as plt"
   ]
  },
  {
   "cell_type": "code",
   "execution_count": 3,
   "metadata": {},
   "outputs": [],
   "source": [
    "S = np.array([1,3,1])"
   ]
  },
  {
   "cell_type": "code",
   "execution_count": 4,
   "metadata": {},
   "outputs": [
    {
     "data": {
      "text/plain": [
       "array([ 2.71828183, 20.08553692,  2.71828183])"
      ]
     },
     "execution_count": 4,
     "metadata": {},
     "output_type": "execute_result"
    }
   ],
   "source": [
    "ES = np.exp(S)\n",
    "ES"
   ]
  },
  {
   "cell_type": "code",
   "execution_count": 5,
   "metadata": {},
   "outputs": [
    {
     "data": {
      "text/plain": [
       "array([0.10650698, 0.78698604, 0.10650698])"
      ]
     },
     "execution_count": 5,
     "metadata": {},
     "output_type": "execute_result"
    }
   ],
   "source": [
    "ES/ES.sum()"
   ]
  },
  {
   "cell_type": "code",
   "execution_count": 6,
   "metadata": {},
   "outputs": [],
   "source": [
    "def sigmoid(x):\n",
    "    ex = np.exp(x)\n",
    "    return ex/(1+ex)"
   ]
  },
  {
   "cell_type": "code",
   "execution_count": 8,
   "metadata": {},
   "outputs": [
    {
     "data": {
      "image/png": "[encoded data removed]",
      "text/plain": [
       "<Figure size 432x288 with 1 Axes>"
      ]
     },
     "metadata": {
      "needs_background": "light"
     },
     "output_type": "display_data"
    }
   ],
   "source": [
    "X = np.linspace(-10, 10, 101)\n",
    "plt.plot(X, sigmoid(X));"
   ]
  },
  {
   "cell_type": "code",
   "execution_count": 10,
   "metadata": {},
   "outputs": [],
   "source": [
    "x1 = np.linspace(0, 10, 101)\n",
    "x2 = np.linspace(10, 20, 101)\n",
    "X1, X2 = np.meshgrid(x1, x2)"
   ]
  },
  {
   "cell_type": "code",
   "execution_count": 21,
   "metadata": {},
   "outputs": [],
   "source": [
    "w1, w2, b = (1, 2, -35)\n",
    "S = w1*X1+w2*X2+b"
   ]
  },
  {
   "cell_type": "code",
   "execution_count": 22,
   "metadata": {},
   "outputs": [
    {
     "data": {
      "text/plain": [
       "<matplotlib.colorbar.Colorbar at 0x7f5fec4bd870>"
      ]
     },
     "execution_count": 22,
     "metadata": {},
     "output_type": "execute_result"
    },
    {
     "data": {
      "image/png": "[encoded data removed]",
      "text/plain": [
       "<Figure size 432x288 with 2 Axes>"
      ]
     },
     "metadata": {
      "needs_background": "light"
     },
     "output_type": "display_data"
    }
   ],
   "source": [
    "Y = sigmoid(S)\n",
    "plt.contourf(X1, X2, Y)\n",
    "plt.colorbar()\n"
   ]
  },
  {
   "cell_type": "code",
   "execution_count": 23,
   "metadata": {},
   "outputs": [],
   "source": [
    "Data = np.array([\n",
    "    [1,1,1],\n",
    "    [2,2,1],\n",
    "    [-3, -4, 0],\n",
    "    [-2, -1, 0]\n",
    "])"
   ]
  },
  {
   "cell_type": "code",
   "execution_count": 32,
   "metadata": {},
   "outputs": [
    {
     "data": {
      "image/png": "[encoded data removed]",
      "text/plain": [
       "<Figure size 432x288 with 1 Axes>"
      ]
     },
     "metadata": {
      "needs_background": "light"
     },
     "output_type": "display_data"
    }
   ],
   "source": [
    "plt.scatter(Data[:,0], Data[:,1], c=Data[:,2], cmap='viridis');"
   ]
  },
  {
   "cell_type": "code",
   "execution_count": 47,
   "metadata": {},
   "outputs": [
    {
     "data": {
      "text/plain": [
       "0.2872956600207283"
      ]
     },
     "execution_count": 47,
     "metadata": {},
     "output_type": "execute_result"
    }
   ],
   "source": [
    "def Loss(w1, w2, b):\n",
    "    S = w1*Data[:,0]+w2*Data[:,1]+b\n",
    "    Yhat = sigmoid(S)\n",
    "    Y = Data[:,2]\n",
    "    l1 = Y*np.log(Yhat)\n",
    "    l2 = (1-Y)*np.log(1-Yhat)\n",
    "    l = -(l1+l2)\n",
    "    return l.sum()/len(l)\n",
    "Loss(0.3, 0.4, 1)"
   ]
  },
  {
   "cell_type": "code",
   "execution_count": 48,
   "metadata": {},
   "outputs": [],
   "source": [
    "def gradient_3(L):\n",
    "    delta = 0.001\n",
    "    def j(x1, x2, x3):\n",
    "        Lx = L(x1, x2, x3)\n",
    "        j1 = (L(x1+delta, x2, x3) - Lx)/delta\n",
    "        j2 = (L(x1, x2+delta, x3) - Lx)/delta\n",
    "        j3 = (L(x1, x2, x3+delta) - Lx)/delta\n",
    "\n",
    "        return j1, j2, j3\n",
    "\n",
    "    return j    "
   ]
  },
  {
   "cell_type": "code",
   "execution_count": 49,
   "metadata": {},
   "outputs": [],
   "source": [
    "J = gradient_3(Loss)"
   ]
  },
  {
   "cell_type": "code",
   "execution_count": 50,
   "metadata": {},
   "outputs": [
    {
     "data": {
      "text/plain": [
       "(-0.46667469591893385, -0.38724446971899473, 0.11127263899407547)"
      ]
     },
     "execution_count": 50,
     "metadata": {},
     "output_type": "execute_result"
    }
   ],
   "source": [
    "J(0.3, 0.4, 1)"
   ]
  },
  {
   "cell_type": "code",
   "execution_count": 53,
   "metadata": {},
   "outputs": [],
   "source": [
    "def gradient_decent(L, w1, w2, b):\n",
    "    theta = np.array((w1, w2, b))\n",
    "    J = gradient_3(L)\n",
    "    step = 0.05\n",
    "    for i in range(100):\n",
    "        j = J(*theta)\n",
    "        theta -= step*np.array(j)\n",
    "        print(theta)"
   ]
  },
  {
   "cell_type": "code",
   "execution_count": 54,
   "metadata": {},
   "outputs": [
    {
     "name": "stdout",
     "output_type": "stream",
     "text": [
      "[0.32333373 0.41936222 0.99443637]\n",
      "[0.34519947 0.43720916 0.98923461]\n",
      "[0.36578244 0.45375363 0.98435103]\n",
      "[0.38523564 0.46916969 0.97974923]\n",
      "[0.40368644 0.48360064 0.97539869]\n",
      "[0.42124165 0.49716536 0.97127367]\n",
      "[0.43799163 0.50996327 0.96735229]\n",
      "[0.45401335 0.52207806 0.96361582]\n",
      "[0.46937293 0.53358081 0.96004812]\n",
      "[0.48412753 0.54453221 0.95663517]\n",
      "[0.49832693 0.55498449 0.9533647 ]\n",
      "[0.51201472 0.56498286 0.95022595]\n",
      "[0.52522932 0.57456669 0.94720938]\n",
      "[0.53800478 0.58377046 0.94430651]\n",
      "[0.5503714  0.59262449 0.94150977]\n",
      "[0.56235631 0.60115563 0.93881234]\n",
      "[0.57398388 0.60938772 0.9362081 ]\n",
      "[0.58527611 0.61734205 0.93369148]\n",
      "[0.59625291 0.62503767 0.93125742]\n",
      "[0.60693241 0.63249172 0.92890132]\n",
      "[0.61733112 0.6397197  0.92661896]\n",
      "[0.62746415 0.64673561 0.92440645]\n",
      "[0.63734539 0.65355218 0.92226022]\n",
      "[0.64698759 0.66018101 0.920177  ]\n",
      "[0.65640252 0.66663272 0.91815372]\n",
      "[0.66560109 0.672917   0.91618755]\n",
      "[0.67459337 0.67904279 0.91427587]\n",
      "[0.68338875 0.6850183  0.91241623]\n",
      "[0.69199596 0.6908511  0.91060634]\n",
      "[0.70042312 0.69654821 0.90884406]\n",
      "[0.70867785 0.70211613 0.90712739]\n",
      "[0.71676726 0.70756088 0.90545445]\n",
      "[0.72469802 0.71288808 0.90382348]\n",
      "[0.73247639 0.71810296 0.9022328 ]\n",
      "[0.74010826 0.72321039 0.90068087]\n",
      "[0.74759917 0.72821495 0.8991662 ]\n",
      "[0.75495435 0.73312091 0.89768739]\n",
      "[0.76217873 0.73793226 0.89624312]\n",
      "[0.76927697 0.74265279 0.89483215]\n",
      "[0.77625349 0.74728601 0.8934533 ]\n",
      "[0.78311246 0.75183527 0.89210543]\n",
      "[0.78985785 0.75630371 0.89078748]\n",
      "[0.79649342 0.76069429 0.88949844]\n",
      "[0.80302275 0.76500981 0.88823734]\n",
      "[0.80944923 0.76925292 0.88700326]\n",
      "[0.81577609 0.77342614 0.88579532]\n",
      "[0.82200644 0.77753184 0.8846127 ]\n",
      "[0.82814319 0.78157227 0.88345458]\n",
      "[0.83418916 0.78554959 0.88232022]\n",
      "[0.84014704 0.78946583 0.88120888]\n",
      "[0.84601937 0.79332292 0.88011986]\n",
      "[0.85180861 0.79712273 0.8790525 ]\n",
      "[0.85751711 0.80086699 0.87800616]\n",
      "[0.86314711 0.8045574  0.87698023]\n",
      "[0.86870076 0.80819556 0.87597412]\n",
      "[0.87418013 0.81178299 0.87498727]\n",
      "[0.87958719 0.81532117 0.87401913]\n",
      "[0.88492385 0.81881148 0.87306919]\n",
      "[0.89019194 0.82225527 0.87213695]\n",
      "[0.89539321 0.82565383 0.87122192]\n",
      "[0.90052935 0.82900838 0.87032365]\n",
      "[0.90560198 0.8323201  0.8694417 ]\n",
      "[0.91061268 0.83559012 0.86857562]\n",
      "[0.91556295 0.83881954 0.86772502]\n",
      "[0.92045423 0.84200939 0.86688949]\n",
      "[0.92528794 0.84516068 0.86606865]\n",
      "[0.93006542 0.84827438 0.86526214]\n",
      "[0.93478797 0.85135142 0.86446959]\n",
      "[0.93945686 0.85439268 0.86369066]\n",
      "[0.9440733  0.85739904 0.86292502]\n",
      "[0.94863847 0.86037132 0.86217235]\n",
      "[0.95315349 0.86331033 0.86143233]\n",
      "[0.95761947 0.86621683 0.86070468]\n",
      "[0.96203748 0.86909157 0.85998909]\n",
      "[0.96640853 0.87193527 0.85928528]\n",
      "[0.97073362 0.87474863 0.85859299]\n",
      "[0.97501372 0.87753231 0.85791195]\n",
      "[0.97924976 0.88028698 0.85724191]\n",
      "[0.98344264 0.88301325 0.85658262]\n",
      "[0.98759325 0.88571173 0.85593384]\n",
      "[0.99170243 0.88838301 0.85529534]\n",
      "[0.99577101 0.89102766 0.8546669 ]\n",
      "[0.99979979 0.89364624 0.85404829]\n",
      "[1.00378954 0.89623926 0.85343931]\n",
      "[1.00774102 0.89880726 0.85283975]\n",
      "[1.01165497 0.90135074 0.85224941]\n",
      "[1.01553208 0.90387017 0.8516681 ]\n",
      "[1.01937307 0.90636604 0.85109563]\n",
      "[1.0231786  0.9088388  0.85053181]\n",
      "[1.02694931 0.9112889  0.84997648]\n",
      "[1.03068586 0.91371676 0.84942946]\n",
      "[1.03438886 0.9161228  0.84889058]\n",
      "[1.0380589  0.91850745 0.84835967]\n",
      "[1.04169658 0.92087108 0.84783659]\n",
      "[1.04530246 0.92321408 0.84732117]\n",
      "[1.04887711 0.92553684 0.84681327]\n",
      "[1.05242106 0.92783971 0.84631274]\n",
      "[1.05593483 0.93012304 0.84581944]\n",
      "[1.05941895 0.93238719 0.84533323]\n",
      "[1.06287392 0.93463248 0.84485398]\n"
     ]
    }
   ],
   "source": [
    "gradient_decent(Loss, 0.3, 0.4, 1)"
   ]
  },
  {
   "cell_type": "code",
   "execution_count": null,
   "metadata": {},
   "outputs": [],
   "source": []
  }
 ],
 "metadata": {
  "interpreter": {
   "hash": "e7370f93d1d0cde622a1f8e1c04877d8463912d04d973331ad4851f04de6915a"
  },
  "kernelspec": {
   "display_name": "Python 3.10.4 64-bit",
   "language": "python",
   "name": "python3"
  },
  "language_info": {
   "codemirror_mode": {
    "name": "ipython",
    "version": 3
   },
   "file_extension": ".py",
   "mimetype": "text/x-python",
   "name": "python",
   "nbconvert_exporter": "python",
   "pygments_lexer": "ipython3",
   "version": "3.10.4"
  },
  "orig_nbformat": 4
 },
 "nbformat": 4,
 "nbformat_minor": 2
}
