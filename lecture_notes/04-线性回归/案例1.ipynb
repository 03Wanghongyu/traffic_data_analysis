{
 "cells": [
  {
   "cell_type": "code",
   "execution_count": 1,
   "metadata": {},
   "outputs": [],
   "source": [
    "X = [1000, 1500, 1200]\n",
    "Y = [20, 35, 30]"
   ]
  },
  {
   "cell_type": "code",
   "execution_count": 2,
   "metadata": {},
   "outputs": [],
   "source": [
    "import sympy as sp"
   ]
  },
  {
   "cell_type": "code",
   "execution_count": 3,
   "metadata": {},
   "outputs": [],
   "source": [
    "a, b = sp.symbols(\"a b\")"
   ]
  },
  {
   "cell_type": "code",
   "execution_count": 4,
   "metadata": {},
   "outputs": [],
   "source": [
    "sum = 0\n",
    "for x,y in zip(X,Y):\n",
    "    sum += (a*x+b -y)**2"
   ]
  },
  {
   "cell_type": "code",
   "execution_count": 5,
   "metadata": {},
   "outputs": [
    {
     "data": {
      "text/latex": [
       "$\\displaystyle \\left(1000 a + b - 20\\right)^{2} + \\left(1200 a + b - 30\\right)^{2} + \\left(1500 a + b - 35\\right)^{2}$"
      ],
      "text/plain": [
       "(1000*a + b - 20)**2 + (1200*a + b - 30)**2 + (1500*a + b - 35)**2"
      ]
     },
     "execution_count": 5,
     "metadata": {},
     "output_type": "execute_result"
    }
   ],
   "source": [
    "sum"
   ]
  },
  {
   "cell_type": "code",
   "execution_count": 6,
   "metadata": {},
   "outputs": [
    {
     "data": {
      "text/latex": [
       "$\\displaystyle 4690000 a^{2} + 7400 a b - 217000 a + 3 b^{2} - 170 b + 2525$"
      ],
      "text/plain": [
       "4690000*a**2 + 7400*a*b - 217000*a + 3*b**2 - 170*b + 2525"
      ]
     },
     "execution_count": 6,
     "metadata": {},
     "output_type": "execute_result"
    }
   ],
   "source": [
    "sp.simplify(sum)"
   ]
  },
  {
   "cell_type": "code",
   "execution_count": 7,
   "metadata": {},
   "outputs": [
    {
     "data": {
      "text/latex": [
       "$\\displaystyle 9380000 a + 7400 b - 217000$"
      ],
      "text/plain": [
       "9380000*a + 7400*b - 217000"
      ]
     },
     "execution_count": 7,
     "metadata": {},
     "output_type": "execute_result"
    }
   ],
   "source": [
    "sp.diff(sum,a)"
   ]
  },
  {
   "cell_type": "code",
   "execution_count": 8,
   "metadata": {},
   "outputs": [
    {
     "data": {
      "text/latex": [
       "$\\displaystyle 7400 a + 6 b - 170$"
      ],
      "text/plain": [
       "7400*a + 6*b - 170"
      ]
     },
     "execution_count": 8,
     "metadata": {},
     "output_type": "execute_result"
    }
   ],
   "source": [
    "sp.diff(sum, b)"
   ]
  },
  {
   "cell_type": "code",
   "execution_count": 9,
   "metadata": {},
   "outputs": [],
   "source": [
    "import numpy as np"
   ]
  },
  {
   "cell_type": "code",
   "execution_count": 10,
   "metadata": {},
   "outputs": [],
   "source": [
    "X = np.linspace(-20, 20, 101)"
   ]
  },
  {
   "cell_type": "code",
   "execution_count": 18,
   "metadata": {},
   "outputs": [],
   "source": [
    "Y = 3*X+5 + np.random.randn(101)*10"
   ]
  },
  {
   "cell_type": "code",
   "execution_count": 19,
   "metadata": {},
   "outputs": [],
   "source": [
    "import matplotlib.pyplot as plt"
   ]
  },
  {
   "cell_type": "code",
   "execution_count": 20,
   "metadata": {},
   "outputs": [
    {
     "data": {
      "text/plain": [
       "[<matplotlib.lines.Line2D at 0x7fd6614e1030>]"
      ]
     },
     "execution_count": 20,
     "metadata": {},
     "output_type": "execute_result"
    },
    {
     "data": {
      "image/png": "[encoded data removed]",
      "text/plain": [
       "<Figure size 432x288 with 1 Axes>"
      ]
     },
     "metadata": {
      "needs_background": "light"
     },
     "output_type": "display_data"
    }
   ],
   "source": [
    "plt.plot(X, Y, \".\")"
   ]
  },
  {
   "cell_type": "code",
   "execution_count": 25,
   "metadata": {},
   "outputs": [],
   "source": [
    "A = np.vstack([X, np.ones_like(X)]).T"
   ]
  },
  {
   "cell_type": "code",
   "execution_count": 28,
   "metadata": {},
   "outputs": [
    {
     "data": {
      "text/plain": [
       "array([[1.37360000e+04, 4.26325641e-14],\n",
       "       [4.26325641e-14, 1.01000000e+02]])"
      ]
     },
     "execution_count": 28,
     "metadata": {},
     "output_type": "execute_result"
    }
   ],
   "source": [
    "ATA = A.T@A\n",
    "ATA"
   ]
  },
  {
   "cell_type": "code",
   "execution_count": 30,
   "metadata": {},
   "outputs": [
    {
     "data": {
      "text/plain": [
       "array([40854.84453733,   558.72861271])"
      ]
     },
     "execution_count": 30,
     "metadata": {},
     "output_type": "execute_result"
    }
   ],
   "source": [
    "ATY = A.T@Y\n",
    "ATY"
   ]
  },
  {
   "cell_type": "code",
   "execution_count": 32,
   "metadata": {},
   "outputs": [
    {
     "data": {
      "text/plain": [
       "array([2.97428979, 5.53196646])"
      ]
     },
     "execution_count": 32,
     "metadata": {},
     "output_type": "execute_result"
    }
   ],
   "source": [
    "theta = np.linalg.solve(ATA, ATY)\n",
    "theta"
   ]
  },
  {
   "cell_type": "code",
   "execution_count": 33,
   "metadata": {},
   "outputs": [],
   "source": [
    "a, b = theta"
   ]
  },
  {
   "cell_type": "code",
   "execution_count": 34,
   "metadata": {},
   "outputs": [
    {
     "data": {
      "text/plain": [
       "[<matplotlib.lines.Line2D at 0x7fd661265060>]"
      ]
     },
     "execution_count": 34,
     "metadata": {},
     "output_type": "execute_result"
    },
    {
     "data": {
      "image/png": "[encoded data removed]",
      "text/plain": [
       "<Figure size 432x288 with 1 Axes>"
      ]
     },
     "metadata": {
      "needs_background": "light"
     },
     "output_type": "display_data"
    }
   ],
   "source": [
    "plt.plot(X, Y, \".\")\n",
    "plt.plot(X, a*X+b)"
   ]
  },
  {
   "cell_type": "code",
   "execution_count": 39,
   "metadata": {},
   "outputs": [],
   "source": [
    "Y = 0.5*X**2+5*X-4 + np.random.randn(101)*100"
   ]
  },
  {
   "cell_type": "code",
   "execution_count": 40,
   "metadata": {},
   "outputs": [
    {
     "data": {
      "text/plain": [
       "[<matplotlib.lines.Line2D at 0x7fd6611b42b0>]"
      ]
     },
     "execution_count": 40,
     "metadata": {},
     "output_type": "execute_result"
    },
    {
     "data": {
      "image/png": "[encoded data removed]",
      "text/plain": [
       "<Figure size 432x288 with 1 Axes>"
      ]
     },
     "metadata": {
      "needs_background": "light"
     },
     "output_type": "display_data"
    }
   ],
   "source": [
    "plt.plot(X, Y, \".\")"
   ]
  },
  {
   "cell_type": "code",
   "execution_count": 41,
   "metadata": {},
   "outputs": [
    {
     "data": {
      "text/plain": [
       "array([[ 4.0000e+02, -2.0000e+01,  1.0000e+00],\n",
       "       [ 3.8416e+02, -1.9600e+01,  1.0000e+00],\n",
       "       [ 3.6864e+02, -1.9200e+01,  1.0000e+00],\n",
       "       [ 3.5344e+02, -1.8800e+01,  1.0000e+00],\n",
       "       [ 3.3856e+02, -1.8400e+01,  1.0000e+00],\n",
       "       [ 3.2400e+02, -1.8000e+01,  1.0000e+00],\n",
       "       [ 3.0976e+02, -1.7600e+01,  1.0000e+00],\n",
       "       [ 2.9584e+02, -1.7200e+01,  1.0000e+00],\n",
       "       [ 2.8224e+02, -1.6800e+01,  1.0000e+00],\n",
       "       [ 2.6896e+02, -1.6400e+01,  1.0000e+00],\n",
       "       [ 2.5600e+02, -1.6000e+01,  1.0000e+00],\n",
       "       [ 2.4336e+02, -1.5600e+01,  1.0000e+00],\n",
       "       [ 2.3104e+02, -1.5200e+01,  1.0000e+00],\n",
       "       [ 2.1904e+02, -1.4800e+01,  1.0000e+00],\n",
       "       [ 2.0736e+02, -1.4400e+01,  1.0000e+00],\n",
       "       [ 1.9600e+02, -1.4000e+01,  1.0000e+00],\n",
       "       [ 1.8496e+02, -1.3600e+01,  1.0000e+00],\n",
       "       [ 1.7424e+02, -1.3200e+01,  1.0000e+00],\n",
       "       [ 1.6384e+02, -1.2800e+01,  1.0000e+00],\n",
       "       [ 1.5376e+02, -1.2400e+01,  1.0000e+00],\n",
       "       [ 1.4400e+02, -1.2000e+01,  1.0000e+00],\n",
       "       [ 1.3456e+02, -1.1600e+01,  1.0000e+00],\n",
       "       [ 1.2544e+02, -1.1200e+01,  1.0000e+00],\n",
       "       [ 1.1664e+02, -1.0800e+01,  1.0000e+00],\n",
       "       [ 1.0816e+02, -1.0400e+01,  1.0000e+00],\n",
       "       [ 1.0000e+02, -1.0000e+01,  1.0000e+00],\n",
       "       [ 9.2160e+01, -9.6000e+00,  1.0000e+00],\n",
       "       [ 8.4640e+01, -9.2000e+00,  1.0000e+00],\n",
       "       [ 7.7440e+01, -8.8000e+00,  1.0000e+00],\n",
       "       [ 7.0560e+01, -8.4000e+00,  1.0000e+00],\n",
       "       [ 6.4000e+01, -8.0000e+00,  1.0000e+00],\n",
       "       [ 5.7760e+01, -7.6000e+00,  1.0000e+00],\n",
       "       [ 5.1840e+01, -7.2000e+00,  1.0000e+00],\n",
       "       [ 4.6240e+01, -6.8000e+00,  1.0000e+00],\n",
       "       [ 4.0960e+01, -6.4000e+00,  1.0000e+00],\n",
       "       [ 3.6000e+01, -6.0000e+00,  1.0000e+00],\n",
       "       [ 3.1360e+01, -5.6000e+00,  1.0000e+00],\n",
       "       [ 2.7040e+01, -5.2000e+00,  1.0000e+00],\n",
       "       [ 2.3040e+01, -4.8000e+00,  1.0000e+00],\n",
       "       [ 1.9360e+01, -4.4000e+00,  1.0000e+00],\n",
       "       [ 1.6000e+01, -4.0000e+00,  1.0000e+00],\n",
       "       [ 1.2960e+01, -3.6000e+00,  1.0000e+00],\n",
       "       [ 1.0240e+01, -3.2000e+00,  1.0000e+00],\n",
       "       [ 7.8400e+00, -2.8000e+00,  1.0000e+00],\n",
       "       [ 5.7600e+00, -2.4000e+00,  1.0000e+00],\n",
       "       [ 4.0000e+00, -2.0000e+00,  1.0000e+00],\n",
       "       [ 2.5600e+00, -1.6000e+00,  1.0000e+00],\n",
       "       [ 1.4400e+00, -1.2000e+00,  1.0000e+00],\n",
       "       [ 6.4000e-01, -8.0000e-01,  1.0000e+00],\n",
       "       [ 1.6000e-01, -4.0000e-01,  1.0000e+00],\n",
       "       [ 0.0000e+00,  0.0000e+00,  1.0000e+00],\n",
       "       [ 1.6000e-01,  4.0000e-01,  1.0000e+00],\n",
       "       [ 6.4000e-01,  8.0000e-01,  1.0000e+00],\n",
       "       [ 1.4400e+00,  1.2000e+00,  1.0000e+00],\n",
       "       [ 2.5600e+00,  1.6000e+00,  1.0000e+00],\n",
       "       [ 4.0000e+00,  2.0000e+00,  1.0000e+00],\n",
       "       [ 5.7600e+00,  2.4000e+00,  1.0000e+00],\n",
       "       [ 7.8400e+00,  2.8000e+00,  1.0000e+00],\n",
       "       [ 1.0240e+01,  3.2000e+00,  1.0000e+00],\n",
       "       [ 1.2960e+01,  3.6000e+00,  1.0000e+00],\n",
       "       [ 1.6000e+01,  4.0000e+00,  1.0000e+00],\n",
       "       [ 1.9360e+01,  4.4000e+00,  1.0000e+00],\n",
       "       [ 2.3040e+01,  4.8000e+00,  1.0000e+00],\n",
       "       [ 2.7040e+01,  5.2000e+00,  1.0000e+00],\n",
       "       [ 3.1360e+01,  5.6000e+00,  1.0000e+00],\n",
       "       [ 3.6000e+01,  6.0000e+00,  1.0000e+00],\n",
       "       [ 4.0960e+01,  6.4000e+00,  1.0000e+00],\n",
       "       [ 4.6240e+01,  6.8000e+00,  1.0000e+00],\n",
       "       [ 5.1840e+01,  7.2000e+00,  1.0000e+00],\n",
       "       [ 5.7760e+01,  7.6000e+00,  1.0000e+00],\n",
       "       [ 6.4000e+01,  8.0000e+00,  1.0000e+00],\n",
       "       [ 7.0560e+01,  8.4000e+00,  1.0000e+00],\n",
       "       [ 7.7440e+01,  8.8000e+00,  1.0000e+00],\n",
       "       [ 8.4640e+01,  9.2000e+00,  1.0000e+00],\n",
       "       [ 9.2160e+01,  9.6000e+00,  1.0000e+00],\n",
       "       [ 1.0000e+02,  1.0000e+01,  1.0000e+00],\n",
       "       [ 1.0816e+02,  1.0400e+01,  1.0000e+00],\n",
       "       [ 1.1664e+02,  1.0800e+01,  1.0000e+00],\n",
       "       [ 1.2544e+02,  1.1200e+01,  1.0000e+00],\n",
       "       [ 1.3456e+02,  1.1600e+01,  1.0000e+00],\n",
       "       [ 1.4400e+02,  1.2000e+01,  1.0000e+00],\n",
       "       [ 1.5376e+02,  1.2400e+01,  1.0000e+00],\n",
       "       [ 1.6384e+02,  1.2800e+01,  1.0000e+00],\n",
       "       [ 1.7424e+02,  1.3200e+01,  1.0000e+00],\n",
       "       [ 1.8496e+02,  1.3600e+01,  1.0000e+00],\n",
       "       [ 1.9600e+02,  1.4000e+01,  1.0000e+00],\n",
       "       [ 2.0736e+02,  1.4400e+01,  1.0000e+00],\n",
       "       [ 2.1904e+02,  1.4800e+01,  1.0000e+00],\n",
       "       [ 2.3104e+02,  1.5200e+01,  1.0000e+00],\n",
       "       [ 2.4336e+02,  1.5600e+01,  1.0000e+00],\n",
       "       [ 2.5600e+02,  1.6000e+01,  1.0000e+00],\n",
       "       [ 2.6896e+02,  1.6400e+01,  1.0000e+00],\n",
       "       [ 2.8224e+02,  1.6800e+01,  1.0000e+00],\n",
       "       [ 2.9584e+02,  1.7200e+01,  1.0000e+00],\n",
       "       [ 3.0976e+02,  1.7600e+01,  1.0000e+00],\n",
       "       [ 3.2400e+02,  1.8000e+01,  1.0000e+00],\n",
       "       [ 3.3856e+02,  1.8400e+01,  1.0000e+00],\n",
       "       [ 3.5344e+02,  1.8800e+01,  1.0000e+00],\n",
       "       [ 3.6864e+02,  1.9200e+01,  1.0000e+00],\n",
       "       [ 3.8416e+02,  1.9600e+01,  1.0000e+00],\n",
       "       [ 4.0000e+02,  2.0000e+01,  1.0000e+00]])"
      ]
     },
     "execution_count": 41,
     "metadata": {},
     "output_type": "execute_result"
    }
   ],
   "source": [
    "A = np.vstack([X**2, X, X**0]).T\n",
    "A"
   ]
  },
  {
   "cell_type": "code",
   "execution_count": 42,
   "metadata": {},
   "outputs": [],
   "source": [
    "theta = np.linalg.solve(A.T@A, A.T@Y)"
   ]
  },
  {
   "cell_type": "code",
   "execution_count": 43,
   "metadata": {},
   "outputs": [],
   "source": [
    "a, b, c = theta"
   ]
  },
  {
   "cell_type": "code",
   "execution_count": 44,
   "metadata": {},
   "outputs": [
    {
     "data": {
      "text/plain": [
       "array([0.51438089, 5.79332806, 4.18597809])"
      ]
     },
     "execution_count": 44,
     "metadata": {},
     "output_type": "execute_result"
    }
   ],
   "source": [
    "theta"
   ]
  },
  {
   "cell_type": "code",
   "execution_count": 45,
   "metadata": {},
   "outputs": [
    {
     "data": {
      "text/plain": [
       "[<matplotlib.lines.Line2D at 0x7fd6612159c0>]"
      ]
     },
     "execution_count": 45,
     "metadata": {},
     "output_type": "execute_result"
    },
    {
     "data": {
      "image/png": "[encoded data removed]",
      "text/plain": [
       "<Figure size 432x288 with 1 Axes>"
      ]
     },
     "metadata": {
      "needs_background": "light"
     },
     "output_type": "display_data"
    }
   ],
   "source": [
    "plt.plot(X, Y, \".\")\n",
    "plt.plot(X, a*X**2+b*X+c)"
   ]
  },
  {
   "cell_type": "code",
   "execution_count": 56,
   "metadata": {},
   "outputs": [],
   "source": [
    "def regression(X, Y, n):\n",
    "    A = [X**i for i in range(n, -1, -1)]\n",
    "    A = np.vstack(A).T\n",
    "    theta = np.linalg.solve(A.T@A,A.T@Y)\n",
    "    return theta"
   ]
  },
  {
   "cell_type": "code",
   "execution_count": 62,
   "metadata": {},
   "outputs": [
    {
     "data": {
      "text/plain": [
       "array([-8.39306830e-04,  5.14380893e-01,  5.99876351e+00,  4.18597809e+00])"
      ]
     },
     "execution_count": 62,
     "metadata": {},
     "output_type": "execute_result"
    }
   ],
   "source": [
    "theta = regression(X, Y, 3)\n",
    "theta"
   ]
  },
  {
   "cell_type": "code",
   "execution_count": 63,
   "metadata": {},
   "outputs": [],
   "source": [
    "def predict(X, theta):\n",
    "    n = len(theta)\n",
    "\n",
    "    sum = np.zeros_like(X, dtype=float)\n",
    "    for i in range(n):\n",
    "        j = n - i -1\n",
    "        sum += theta[i]*X**j\n",
    "\n",
    "    return sum"
   ]
  },
  {
   "cell_type": "code",
   "execution_count": 64,
   "metadata": {},
   "outputs": [
    {
     "data": {
      "text/plain": [
       "[<matplotlib.lines.Line2D at 0x7fd660faa050>]"
      ]
     },
     "execution_count": 64,
     "metadata": {},
     "output_type": "execute_result"
    },
    {
     "data": {
      "image/png": "[encoded data removed]",
      "text/plain": [
       "<Figure size 432x288 with 1 Axes>"
      ]
     },
     "metadata": {
      "needs_background": "light"
     },
     "output_type": "display_data"
    }
   ],
   "source": [
    "plt.plot(X, Y, \".\")\n",
    "plt.plot(X, predict(X, theta))\n"
   ]
  },
  {
   "cell_type": "code",
   "execution_count": 73,
   "metadata": {},
   "outputs": [
    {
     "data": {
      "image/png": "[encoded data removed]",
      "text/plain": [
       "<Figure size 432x288 with 1 Axes>"
      ]
     },
     "metadata": {
      "needs_background": "light"
     },
     "output_type": "display_data"
    }
   ],
   "source": [
    "plt.plot(X, Y, \".\")\n",
    "for n in range(2, 44):\n",
    "    theta = regression(X, Y, n)\n",
    "    Y_hat = predict(X, theta)\n",
    "    plt.plot(X, Y_hat)"
   ]
  },
  {
   "cell_type": "code",
   "execution_count": null,
   "metadata": {},
   "outputs": [],
   "source": []
  }
 ],
 "metadata": {
  "interpreter": {
   "hash": "e7370f93d1d0cde622a1f8e1c04877d8463912d04d973331ad4851f04de6915a"
  },
  "kernelspec": {
   "display_name": "Python 3.10.2 64-bit",
   "language": "python",
   "name": "python3"
  },
  "language_info": {
   "codemirror_mode": {
    "name": "ipython",
    "version": 3
   },
   "file_extension": ".py",
   "mimetype": "text/x-python",
   "name": "python",
   "nbconvert_exporter": "python",
   "pygments_lexer": "ipython3",
   "version": "3.10.2"
  },
  "orig_nbformat": 4
 },
 "nbformat": 4,
 "nbformat_minor": 2
}
