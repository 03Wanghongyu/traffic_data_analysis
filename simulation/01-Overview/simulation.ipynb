{
 "cells": [
  {
   "cell_type": "code",
   "execution_count": 1,
   "metadata": {},
   "outputs": [],
   "source": [
    "import numpy as np\n",
    "import matplotlib.pyplot as plt"
   ]
  },
  {
   "cell_type": "markdown",
   "metadata": {},
   "source": [
    "### Sample for exponential distribution"
   ]
  },
  {
   "cell_type": "code",
   "execution_count": 2,
   "metadata": {},
   "outputs": [],
   "source": [
    "def sample(mu, N=1):\n",
    "    if N == 1:\n",
    "        y = np.random.rand()\n",
    "    else:\n",
    "        y = np.random.rand(N)\n",
    "    x = -np.log(1-y)/mu\n",
    "    return x"
   ]
  },
  {
   "cell_type": "code",
   "execution_count": 3,
   "metadata": {},
   "outputs": [
    {
     "data": {
      "image/png": "[encoded data removed]",
      "text/plain": [
       "<Figure size 432x288 with 1 Axes>"
      ]
     },
     "metadata": {
      "needs_background": "light"
     },
     "output_type": "display_data"
    }
   ],
   "source": [
    "S = sample(1, 1000)\n",
    "plt.hist(S, 20);"
   ]
  },
  {
   "cell_type": "markdown",
   "metadata": {},
   "source": [
    "### Event Queue\n",
    "A priority queue, sorted by event time"
   ]
  },
  {
   "cell_type": "code",
   "execution_count": 4,
   "metadata": {},
   "outputs": [],
   "source": [
    "class EventQueue:\n",
    "    def __init__(self):\n",
    "        self.events = []\n",
    "\n",
    "    def push(self, time, event):\n",
    "        self.events.append((time, event))\n",
    "        self.events.sort(reverse=True)\n",
    "\n",
    "    def pop(self):\n",
    "        return self.events.pop()\n",
    "\n",
    "    def is_empty(self):\n",
    "        return len(self.events) == 0"
   ]
  },
  {
   "cell_type": "markdown",
   "metadata": {},
   "source": [
    "pop event with least time"
   ]
  },
  {
   "cell_type": "code",
   "execution_count": 5,
   "metadata": {},
   "outputs": [
    {
     "name": "stdout",
     "output_type": "stream",
     "text": [
      "(2, 'b')\n",
      "(3, 'a')\n",
      "(5, 'c')\n"
     ]
    }
   ],
   "source": [
    "eq = EventQueue()\n",
    "eq.push(3, \"a\")\n",
    "eq.push(2, \"b\")\n",
    "eq.push(5, \"c\")\n",
    "while not eq.is_empty():\n",
    "    print(eq.pop())"
   ]
  },
  {
   "cell_type": "markdown",
   "metadata": {},
   "source": [
    "### Simulation"
   ]
  },
  {
   "cell_type": "code",
   "execution_count": 6,
   "metadata": {},
   "outputs": [],
   "source": [
    "class Gatekeeper:\n",
    "    def __init__(self, mu, world):\n",
    "        self.mu = mu\n",
    "        self.num = 1\n",
    "        self.world = world\n",
    "\n",
    "    def wakeup(self, time, event):\n",
    "        if event == \"arrive\":\n",
    "            self.add_car(time)\n",
    "\n",
    "            if self.world.sampler:\n",
    "                dt = self.world.sampler.sample_arrive(self.mu)\n",
    "            else:\n",
    "                dt = sample(self.mu)\n",
    "            self.world.events.push(time+dt, \"arrive\")\n",
    "            self.world.events.push(time, \"serve\")\n",
    "\n",
    "    def add_car(self, time):\n",
    "        #print(\"car #{} arrived at {}\".format(self.num, time))\n",
    "        t, n = self.world.arrival_curve[-1]\n",
    "        self.world.arrival_curve.append([time, n])\n",
    "        self.world.arrival_curve.append([time, self.num])\n",
    "        self.world.arrive_times.append(time)\n",
    "\n",
    "        self.world.road.append(self.num)\n",
    "        self.num += 1\n",
    "            \n",
    "\n",
    "\n",
    "class Toll:\n",
    "    def __init__(self, rho, world):\n",
    "        self.rho = rho\n",
    "        self.in_service = None\n",
    "        self.world = world\n",
    "\n",
    "    def wakeup(self, time, event):\n",
    "        if event == \"serve\" and self.in_service is None and self.world.road:\n",
    "            self.serve_car(time)\n",
    "            if self.world.sampler:\n",
    "                dt = self.world.sampler.sample_serve(self.rho)\n",
    "            else:\n",
    "                dt = sample(self.rho)\n",
    "            self.world.events.push(time+dt, \"leave\")\n",
    "        elif event == \"leave\":\n",
    "            self.release_car(time)\n",
    "            self.world.events.push(time, \"serve\")\n",
    "\n",
    "    def serve_car(self, time):\n",
    "        self.world.serve_times.append(time)\n",
    "        car = self.world.road.pop(0)\n",
    "        self.in_service = car\n",
    "\n",
    "    def release_car(self, time):\n",
    "        #print(\"car #{} leave at {}\".format(self.in_service, time))\n",
    "        t, n = self.world.departure_curve[-1]\n",
    "        self.world.departure_curve.append([time, n])\n",
    "        self.world.departure_curve.append([time, self.in_service])\n",
    "        self.world.leave_times.append(time)\n",
    "\n",
    "        self.in_service = None        \n",
    "    \n",
    "        \n",
    "class World:\n",
    "    def __init__(self, mu=0.01, rho=0.02, sampler=None):\n",
    "        self.sampler = sampler\n",
    "        self.events = EventQueue()\n",
    "        self.road = []\n",
    "        self.gate = Gatekeeper(mu, self)\n",
    "        self.toll = Toll(rho, self)\n",
    "\n",
    "        self.arrival_curve = [(0, 0)]\n",
    "        self.departure_curve = [(0, 0)]\n",
    "\n",
    "        self.arrive_times = []\n",
    "        self.serve_times = []\n",
    "        self.leave_times = []\n",
    "\n",
    "        self.time = 0\n",
    "        if self.sampler:\n",
    "            dt = self.sampler.sample_arrive(mu)\n",
    "        else:\n",
    "            dt = sample(mu)\n",
    "        self.events.push(self.time + dt, \"arrive\")\n",
    "        \n",
    "    def run(self, T=3600):\n",
    "\n",
    "        while not self.events.is_empty():\n",
    "            self.time, event = self.events.pop()\n",
    "            if self.time >= T and event == \"arrive\":\n",
    "                break\n",
    "            self.gate.wakeup(self.time, event)\n",
    "            self.toll.wakeup(self.time, event)"
   ]
  },
  {
   "cell_type": "code",
   "execution_count": 7,
   "metadata": {},
   "outputs": [],
   "source": [
    "from matplotlib.ticker import MaxNLocator\n",
    "\n",
    "def draw(world):\n",
    "    plt.figure(figsize=(10,7.5), dpi=150)\n",
    "    t, n = list(zip(*world.arrival_curve))\n",
    "    plt.plot(t, n, \"r\", alpha = 0.8, label=\"arrival\")\n",
    "    t, n = list(zip(*world.departure_curve))\n",
    "    plt.plot(t, n, \"blue\", alpha = 0.8, label=\"departure\")\n",
    "    plt.legend()\n",
    "    plt.title(\"Cumulative Arrival-Departure Curves\")\n",
    "    plt.xlabel(\"time\")\n",
    "    plt.ylabel(\"# of cars\")\n",
    "    plt.xticks([0, 30, 60], [\"8:30\", \"9:00\", \"9:30\"])\n",
    "    plt.plot([60, 60], [0, 20], \"--g\")\n",
    "    plt.gca().yaxis.set_major_locator(MaxNLocator(integer=True))"
   ]
  },
  {
   "cell_type": "code",
   "execution_count": 8,
   "metadata": {},
   "outputs": [],
   "source": [
    "def statistics(world, T):\n",
    "    n = len(world.arrive_times)\n",
    "    wait_times = []\n",
    "    system_times = []\n",
    "\n",
    "    for i in range(n):\n",
    "        arrive_time = world.arrive_times[i]\n",
    "        if i < len(world.serve_times):\n",
    "            serve_time = world.serve_times[i]\n",
    "        else:\n",
    "            serve_time = T\n",
    "\n",
    "        if i < len(world.leave_times):\n",
    "            leave_time = world.leave_times[i]\n",
    "        else:\n",
    "            leave_time = T\n",
    "\n",
    "        wait_times.append(serve_time - arrive_time)\n",
    "        system_times.append(leave_time - arrive_time)\n",
    "\n",
    "    return sum(wait_times)/n, sum(system_times)/n, sum(wait_times)/T\n",
    "        "
   ]
  },
  {
   "cell_type": "code",
   "execution_count": 9,
   "metadata": {},
   "outputs": [],
   "source": [
    "class Sampler:\n",
    "    def __init__(self, studentid):\n",
    "        filename = r\"Random_number_table/RandomTable_{}.txt\".format(studentid)\n",
    "        with open(filename, \"r\") as f:\n",
    "            lines = f.readlines()\n",
    "\n",
    "        self.arrive_times = lines[2][10:-1].split(\",\")\n",
    "        self.leave_times = lines[4][12:-1].split(\",\")\n",
    "\n",
    "    def sample_arrive(self, mu):\n",
    "        y = float(self.arrive_times.pop(0))\n",
    "        x = -np.log(1-y)/mu\n",
    "        return x\n",
    "        \n",
    "    def sample_serve(self, mu):\n",
    "        y = float(self.leave_times.pop(0))\n",
    "        x = -np.log(1-y)/mu\n",
    "        return x"
   ]
  },
  {
   "cell_type": "code",
   "execution_count": 16,
   "metadata": {},
   "outputs": [
    {
     "data": {
      "text/plain": [
       "(7.31429994224751, 10.83512829710464, 1.706669986524419)"
      ]
     },
     "execution_count": 16,
     "metadata": {},
     "output_type": "execute_result"
    },
    {
     "data": {
      "image/png": "[encoded data removed]",
      "text/plain": [
       "<Figure size 1500x1125 with 1 Axes>"
      ]
     },
     "metadata": {
      "needs_background": "light"
     },
     "output_type": "display_data"
    }
   ],
   "source": [
    "sampler = Sampler(201292223)\n",
    "mu = 20/60\n",
    "rho = 1/5\n",
    "T = 60\n",
    "world = World(mu, rho, sampler)\n",
    "world.run(T)\n",
    "draw(world)\n",
    "statistics(world, T)"
   ]
  },
  {
   "cell_type": "code",
   "execution_count": 17,
   "metadata": {},
   "outputs": [
    {
     "name": "stdout",
     "output_type": "stream",
     "text": [
      "[(0, 0), [0.7569447858434687, 0], [0.7569447858434687, 1], [3.6204806199265276, 1], [3.6204806199265276, 2], [16.025980290153594, 2], [16.025980290153594, 3], [17.48926134265858, 3], [17.48926134265858, 4], [23.633089966519975, 4], [23.633089966519975, 5], [23.64511403071259, 5], [23.64511403071259, 6], [35.86873983549035, 6], [35.86873983549035, 7], [40.46617044938427, 7], [40.46617044938427, 8], [40.9361318795204, 8], [40.9361318795204, 9], [43.62559619325433, 9], [43.62559619325433, 10], [52.219708226697094, 10], [52.219708226697094, 11], [52.988258442874326, 11], [52.988258442874326, 12], [54.81467653925291, 12], [54.81467653925291, 13], [56.613647051670725, 13], [56.613647051670725, 14]]\n"
     ]
    }
   ],
   "source": [
    "print(world.arrival_curve)"
   ]
  },
  {
   "cell_type": "code",
   "execution_count": 18,
   "metadata": {},
   "outputs": [
    {
     "name": "stdout",
     "output_type": "stream",
     "text": [
      "[(0, 0), [4.18283984039731, 0], [4.18283984039731, 1], [6.074522043996868, 1], [6.074522043996868, 2], [19.769279742604613, 2], [19.769279742604613, 3], [36.676253514434485, 3], [36.676253514434485, 4], [38.517100131256825, 4], [38.517100131256825, 5], [44.52032520242313, 5], [44.52032520242313, 6], [46.62068150491076, 6], [46.62068150491076, 7], [58.034593833400095, 7], [58.034593833400095, 8]]\n"
     ]
    }
   ],
   "source": [
    "print(world.departure_curve)"
   ]
  },
  {
   "cell_type": "code",
   "execution_count": null,
   "metadata": {},
   "outputs": [],
   "source": []
  }
 ],
 "metadata": {
  "interpreter": {
   "hash": "767d51c1340bd893661ea55ea3124f6de3c7a262a8b4abca0554b478b1e2ff90"
  },
  "kernelspec": {
   "display_name": "Python 3.10.4 64-bit",
   "language": "python",
   "name": "python3"
  },
  "language_info": {
   "codemirror_mode": {
    "name": "ipython",
    "version": 3
   },
   "file_extension": ".py",
   "mimetype": "text/x-python",
   "name": "python",
   "nbconvert_exporter": "python",
   "pygments_lexer": "ipython3",
   "version": "3.10.4"
  },
  "orig_nbformat": 4
 },
 "nbformat": 4,
 "nbformat_minor": 2
}
